{
 "metadata": {
  "language_info": {
   "codemirror_mode": {
    "name": "ipython",
    "version": 3
   },
   "file_extension": ".py",
   "mimetype": "text/x-python",
   "name": "python",
   "nbconvert_exporter": "python",
   "pygments_lexer": "ipython3",
   "version": "3.9.5"
  },
  "orig_nbformat": 4,
  "kernelspec": {
   "name": "python3",
   "display_name": "Python 3.9.5 64-bit"
  },
  "interpreter": {
   "hash": "4f1212124a69d0e192309562875881c403391e14c64cb7bbd7e67cd7a8d12ddb"
  }
 },
 "nbformat": 4,
 "nbformat_minor": 2,
 "cells": [
  {
   "cell_type": "code",
   "execution_count": null,
   "metadata": {},
   "outputs": [],
   "source": [
    "# import tweepy\n",
    "# from tweepy import api\n",
    "# from tweepy import streaming\n",
    "# from tweepy import auth\n",
    "# from tweepy.streaming import Stream\n",
    "# from autenticate import get_auth\n",
    "\n",
    "# class TweetsListener(tweepy.StreamListener):\n",
    "#     def on_connect(self):\n",
    "#         print(\"Estoy conectado\")\n",
    "\n",
    "#     def on_status(self, status):\n",
    "#         print(status.text)\n",
    "\n",
    "#     def on_error(self, status_code):\n",
    "#         print(\"Error\", status_code)\n",
    "\n",
    "# auth = get_auth()\n",
    "# api = tweepy.API(auth, wait_on_rate_limit_notify=True , wait_on_rate_limit=True)\n",
    "\n",
    "# stream = TweetsListener()\n",
    "# streamingApi = tweepy.Stream(auth=api.auth, listener=stream)\n",
    "\n",
    "# streamingApi.filter(\n",
    "#     track=[\"pedro castillo\", \"keiko\"]\n",
    "# )\n",
    "# import nltk\n",
    "# nltk.download('stopwords')\n",
    "\n",
    "#print(\"frecuente\\xa0hsy\")"
   ]
  },
  {
   "cell_type": "code",
   "execution_count": 152,
   "metadata": {},
   "outputs": [
    {
     "output_type": "execute_result",
     "data": {
      "text/plain": [
       "   going  to  today  i  am  it  is  rain\n",
       "1      1   1      1  0   0   1   1     1\n",
       "2      1   0      1  1   1   0   0     0\n",
       "3      1   1      0  1   1   0   0     0"
      ],
      "text/html": "<div>\n<style scoped>\n    .dataframe tbody tr th:only-of-type {\n        vertical-align: middle;\n    }\n\n    .dataframe tbody tr th {\n        vertical-align: top;\n    }\n\n    .dataframe thead th {\n        text-align: right;\n    }\n</style>\n<table border=\"1\" class=\"dataframe\">\n  <thead>\n    <tr style=\"text-align: right;\">\n      <th></th>\n      <th>going</th>\n      <th>to</th>\n      <th>today</th>\n      <th>i</th>\n      <th>am</th>\n      <th>it</th>\n      <th>is</th>\n      <th>rain</th>\n    </tr>\n  </thead>\n  <tbody>\n    <tr>\n      <th>1</th>\n      <td>1</td>\n      <td>1</td>\n      <td>1</td>\n      <td>0</td>\n      <td>0</td>\n      <td>1</td>\n      <td>1</td>\n      <td>1</td>\n    </tr>\n    <tr>\n      <th>2</th>\n      <td>1</td>\n      <td>0</td>\n      <td>1</td>\n      <td>1</td>\n      <td>1</td>\n      <td>0</td>\n      <td>0</td>\n      <td>0</td>\n    </tr>\n    <tr>\n      <th>3</th>\n      <td>1</td>\n      <td>1</td>\n      <td>0</td>\n      <td>1</td>\n      <td>1</td>\n      <td>0</td>\n      <td>0</td>\n      <td>0</td>\n    </tr>\n  </tbody>\n</table>\n</div>"
     },
     "metadata": {},
     "execution_count": 152
    }
   ],
   "source": [
    "# creacion del primer data frame\n",
    "dic1 = {'going': [1, 1, 1],\n",
    "        'to': [1, 0, 1],\n",
    "        'today': [1, 1, 0],\n",
    "        'i': [0, 1, 1],\n",
    "        'am': [0, 1, 1],\n",
    "        'it': [1, 0, 0],\n",
    "        'is': [1, 0, 0],\n",
    "        'rain': [1, 0, 0]}\n",
    "docs = [1,2,3]\n",
    "df1 = pd.DataFrame(dic1, index=docs)\n",
    "df1"
   ]
  },
  {
   "cell_type": "code",
   "execution_count": 183,
   "metadata": {},
   "outputs": [],
   "source": [
    "import pandas as pd\n"
   ]
  },
  {
   "cell_type": "code",
   "execution_count": 184,
   "metadata": {},
   "outputs": [
    {
     "output_type": "stream",
     "name": "stdout",
     "text": [
      "       count\ngoing      3\nto         2\ntoday      2\ni          2\nam         2\nit         1\nis         1\nrain       1\n"
     ]
    }
   ],
   "source": [
    "#print(df2.shape)\n",
    "df3= count_col(df1)\n",
    "print(df3)"
   ]
  },
  {
   "cell_type": "code",
   "execution_count": 163,
   "metadata": {},
   "outputs": [],
   "source": [
    "def WordsXDocuments(dataframe):\n",
    "    WD = pd.DataFrame()  \n",
    "    col_list= list(dataframe)\n",
    "    dataframe[col_list].sum(axis=1)\n",
    "    WD['Cantidad'] = dataframe[col_list].sum(axis=1)\n",
    "    print(WD)\n",
    "\n",
    "    df_tf = dataframe.copy()\n",
    "    for col in df_tf:\n",
    "        nrow = len(df_tf[col])\n",
    "        for i in range(0,nrow):\n",
    "            print(WD.loc[i+1,'Cantidad'])\n",
    "            df_tf.loc[i+1,col] = df_tf.loc[i+1,col] / WD.loc[i+1,'Cantidad']\n",
    "    return df_tf\n",
    "\n"
   ]
  },
  {
   "cell_type": "code",
   "execution_count": 164,
   "metadata": {},
   "outputs": [
    {
     "output_type": "stream",
     "name": "stdout",
     "text": [
      "      going        to     today     i    am        it        is      rain\n1  0.166667  0.166667  0.166667  0.00  0.00  0.166667  0.166667  0.166667\n2  0.250000  0.000000  0.250000  0.25  0.25  0.000000  0.000000  0.000000\n3  0.250000  0.250000  0.000000  0.25  0.25  0.000000  0.000000  0.000000\n"
     ]
    }
   ],
   "source": [
    "WD = WordsXDocuments(df1)\n",
    "print(WD)"
   ]
  },
  {
   "cell_type": "code",
   "execution_count": 173,
   "metadata": {},
   "outputs": [
    {
     "output_type": "execute_result",
     "data": {
      "text/plain": [
       "       idf_values\n",
       "going        0.00\n",
       "to           0.41\n",
       "today        0.41\n",
       "i            0.41\n",
       "am           0.41\n",
       "it           1.09\n",
       "is           1.09\n",
       "rain         1.09"
      ],
      "text/html": "<div>\n<style scoped>\n    .dataframe tbody tr th:only-of-type {\n        vertical-align: middle;\n    }\n\n    .dataframe tbody tr th {\n        vertical-align: top;\n    }\n\n    .dataframe thead th {\n        text-align: right;\n    }\n</style>\n<table border=\"1\" class=\"dataframe\">\n  <thead>\n    <tr style=\"text-align: right;\">\n      <th></th>\n      <th>idf_values</th>\n    </tr>\n  </thead>\n  <tbody>\n    <tr>\n      <th>going</th>\n      <td>0.00</td>\n    </tr>\n    <tr>\n      <th>to</th>\n      <td>0.41</td>\n    </tr>\n    <tr>\n      <th>today</th>\n      <td>0.41</td>\n    </tr>\n    <tr>\n      <th>i</th>\n      <td>0.41</td>\n    </tr>\n    <tr>\n      <th>am</th>\n      <td>0.41</td>\n    </tr>\n    <tr>\n      <th>it</th>\n      <td>1.09</td>\n    </tr>\n    <tr>\n      <th>is</th>\n      <td>1.09</td>\n    </tr>\n    <tr>\n      <th>rain</th>\n      <td>1.09</td>\n    </tr>\n  </tbody>\n</table>\n</div>"
     },
     "metadata": {},
     "execution_count": 173
    }
   ],
   "source": [
    "dic2 = {'idf_values': [0, 0.41, 0.41, 0.41, 0.41, 1.09, 1.09, 1.09]}\n",
    "words = ['going', 'to', 'today', 'i', 'am', 'it', 'is','rain']\n",
    "df2 = pd.DataFrame(dic2, index=words)\n",
    "df2 "
   ]
  },
  {
   "cell_type": "code",
   "execution_count": null,
   "metadata": {},
   "outputs": [],
   "source": [
    "def tf_idf(df_tf, df_idf):\n",
    "    df_tf_idf = df_tf.copy()\n",
    "    for col in df_tf_idf:\n",
    "        nrow = len(df_tf_idf[col])\n",
    "        for i in range(0,nrow):\n",
    "            df_tf_idf.loc[i+1,col] *= df_idf.loc[col,'idf_values']\n",
    "    return df_tf_idf\n"
   ]
  },
  {
   "cell_type": "code",
   "execution_count": 167,
   "metadata": {},
   "outputs": [],
   "source": []
  },
  {
   "cell_type": "code",
   "execution_count": null,
   "metadata": {},
   "outputs": [],
   "source": []
  }
 ]
}